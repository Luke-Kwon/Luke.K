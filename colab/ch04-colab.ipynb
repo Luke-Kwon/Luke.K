{
  "cells": [
    {
      "cell_type": "markdown",
      "id": "df693600",
      "metadata": {
        "id": "df693600"
      },
      "source": [
        "# 4장. 가장 훌륭한 예측선"
      ]
    },
    {
      "cell_type": "markdown",
      "id": "cb4bb2c8",
      "metadata": {
        "id": "cb4bb2c8"
      },
      "source": [
        "## 4. 파이썬 코딩으로 확인하는 최소 제곱"
      ]
    },
    {
      "cell_type": "markdown",
      "id": "8ce90623",
      "metadata": {
        "id": "8ce90623"
      },
      "source": [
        "### 1. 환경 준비"
      ]
    },
    {
      "cell_type": "code",
      "execution_count": 1,
      "id": "86907981",
      "metadata": {
        "id": "86907981"
      },
      "outputs": [],
      "source": [
        "import numpy as np"
      ]
    },
    {
      "cell_type": "markdown",
      "id": "26e7632f",
      "metadata": {
        "id": "26e7632f"
      },
      "source": [
        "### 2. 데이터 준비"
      ]
    },
    {
      "cell_type": "code",
      "execution_count": 3,
      "id": "a1678fe5",
      "metadata": {
        "id": "a1678fe5"
      },
      "outputs": [],
      "source": [
        "# 데이터 준비: x는 하루 근무 시간, y는 업무 성과 점수 numpy 배열 준비\n",
        "x = np.array([3, 5, 7, 9, 11]) #x는 독립 변수(근무 시간 데이터)\n",
        "y = np.array([55, 70, 85, 95, 100]) #y는 종속 변수 (업무 성과 점수 데이터)"
      ]
    },
    {
      "cell_type": "markdown",
      "id": "2ad27943",
      "metadata": {
        "id": "2ad27943"
      },
      "source": [
        "#### [x와 y의 평균값]"
      ]
    },
    {
      "cell_type": "code",
      "execution_count": 4,
      "id": "ba68a3b7",
      "metadata": {
        "id": "ba68a3b7",
        "outputId": "b9ede24e-f6d7-4d46-f1f5-eafcd407740d",
        "colab": {
          "base_uri": "https://localhost:8080/"
        }
      },
      "outputs": [
        {
          "output_type": "stream",
          "name": "stdout",
          "text": [
            "x의 평균값: 7.0\n",
            "y의 평균값: 81.0\n"
          ]
        }
      ],
      "source": [
        "#x의 평균값을 구합니다.\n",
        "mx = np.mean(x)\n",
        "\n",
        "#y의 평균값을 구합니다.\n",
        "my = np.mean(y)\n",
        "\n",
        "# 출력으로 확인합니다.\n",
        "print(\"x의 평균값:\", mx)\n",
        "print(\"y의 평균값:\", my)"
      ]
    },
    {
      "cell_type": "markdown",
      "id": "86e62f9d",
      "metadata": {
        "id": "86e62f9d"
      },
      "source": [
        "#### [기울기 공식의 분모와 분자]"
      ]
    },
    {
      "cell_type": "code",
      "execution_count": 5,
      "id": "8ca14c62",
      "metadata": {
        "id": "8ca14c62",
        "outputId": "1e55d10d-13d5-4d7f-e9b9-250fd1bd7dad",
        "colab": {
          "base_uri": "https://localhost:8080/"
        }
      },
      "outputs": [
        {
          "output_type": "stream",
          "name": "stdout",
          "text": [
            "분모: 40.0\n",
            "분자: 230.0\n"
          ]
        }
      ],
      "source": [
        "# 기울기 공식의 분모 부분입니다.\n",
        "divisor = sum([(i - mx)**2 for i in x])\n",
        "\n",
        "# 기울기 공식의 분자 부분입니다.\n",
        "def top(x, mx, y, my):\n",
        "    d = 0\n",
        "    for i in range(len(x)):\n",
        "        d += (x[i] - mx) * (y[i] - my)\n",
        "    return d\n",
        "dividend = top(x, mx, y, my)\n",
        "\n",
        "# 출력으로 확인합니다.\n",
        "print(\"분모:\", divisor)\n",
        "print(\"분자:\", dividend)"
      ]
    },
    {
      "cell_type": "markdown",
      "id": "c117d1fe",
      "metadata": {
        "id": "c117d1fe"
      },
      "source": [
        "### 3. 기울기와 y 절편 구하기"
      ]
    },
    {
      "cell_type": "code",
      "execution_count": 6,
      "id": "0fa99a7d",
      "metadata": {
        "id": "0fa99a7d",
        "outputId": "835f2588-de83-4d8b-cd15-f83316eaaed4",
        "colab": {
          "base_uri": "https://localhost:8080/"
        }
      },
      "outputs": [
        {
          "output_type": "stream",
          "name": "stdout",
          "text": [
            "기울기 a = 5.75\n",
            "y절편 b = 40.75\n"
          ]
        }
      ],
      "source": [
        "# 기울기 a를 구하는 공식입니다.\n",
        "a = dividend / divisor\n",
        "\n",
        "# y 절편 b를 구하는 공식입니다.\n",
        "b = my - (mx*a)\n",
        "\n",
        "# 출력으로 확인합니다.\n",
        "print(\"기울기 a =\", a)\n",
        "print(\"y절편 b =\", b)\n",
        "y_LSM = a * x + b # 최소제곱법(LSM)으로 구한 선형회귀선"
      ]
    },
    {
      "cell_type": "markdown",
      "id": "4fb18def",
      "metadata": {
        "id": "4fb18def"
      },
      "source": [
        "## 6. 파이썬 코딩으로 확인하는 평균 제곱 오차"
      ]
    },
    {
      "cell_type": "markdown",
      "id": "e03f22bc",
      "metadata": {
        "id": "e03f22bc"
      },
      "source": [
        "### 1. 환경 준비"
      ]
    },
    {
      "cell_type": "code",
      "execution_count": 7,
      "id": "ef1960f8",
      "metadata": {
        "id": "ef1960f8"
      },
      "outputs": [],
      "source": [
        "import numpy as np"
      ]
    },
    {
      "cell_type": "markdown",
      "id": "d269ffc7",
      "metadata": {
        "id": "d269ffc7"
      },
      "source": [
        "### 2. 데이터 준비"
      ]
    },
    {
      "cell_type": "code",
      "execution_count": 11,
      "id": "3aa4d4da",
      "metadata": {
        "id": "3aa4d4da"
      },
      "outputs": [],
      "source": [
        "# 가상의 기울기 a와 y 절편 b를 정합니다.\n",
        "fake_a=92/10 #학번의 마지막 두 자리 /10\n",
        "fake_b=22/2 #학번의 앞 두 자리 /2\n",
        "\n",
        "# 공부 시간 x와 성적 y의 넘파이 배열을 만듭니다.\n",
        "x = np.array([3, 5, 7, 9, 11]) #x는 독립 변수(근무 시간 데이터)\n",
        "y = np.array([55, 70, 85, 95, 100]) #y는 종속 변수 (업무 성과 점수 데이터)"
      ]
    },
    {
      "cell_type": "markdown",
      "id": "5673ef31",
      "metadata": {
        "id": "5673ef31"
      },
      "source": [
        "### 3. 평균 제곱 오차 구하기"
      ]
    },
    {
      "cell_type": "code",
      "execution_count": 12,
      "id": "142745f3",
      "metadata": {
        "id": "142745f3",
        "outputId": "6e0d916d-b2e1-44af-e5f7-e737c5ebc0d6",
        "colab": {
          "base_uri": "https://localhost:8080/"
        }
      },
      "outputs": [
        {
          "output_type": "stream",
          "name": "stdout",
          "text": [
            "공부시간=3, 실제점수=55, 예측점수=39\n",
            "공부시간=5, 실제점수=70, 예측점수=57\n",
            "공부시간=7, 실제점수=85, 예측점수=75\n",
            "공부시간=9, 실제점수=95, 예측점수=94\n",
            "공부시간=11, 실제점수=100, 예측점수=112\n"
          ]
        }
      ],
      "source": [
        "# y=ax + b에 가상의 a,b 값을 대입한 결과를 출력하는 함수입니다.\n",
        "def predict(x):\n",
        "    return fake_a * x + fake_b\n",
        "\n",
        "# 예측 값이 들어갈 빈 리스트를 만듭니다.\n",
        "predict_result = []\n",
        "\n",
        "# 모든 x 값을 한 번씩 대입하여 predict_result 리스트를 완성합니다.\n",
        "for i in range(len(x)):\n",
        "    predict_result.append(predict(x[i]))\n",
        "    print(\"공부시간=%.f, 실제점수=%.f, 예측점수=%.f\" % (x[i], y[i], predict(x[i])))"
      ]
    },
    {
      "cell_type": "code",
      "execution_count": 13,
      "id": "c90e102f",
      "metadata": {
        "id": "c90e102f",
        "outputId": "2e67f05e-2657-47e8-bfbd-d52fdc832a0e",
        "colab": {
          "base_uri": "https://localhost:8080/"
        }
      },
      "outputs": [
        {
          "output_type": "stream",
          "name": "stdout",
          "text": [
            "평균 제곱 오차: 136.08\n"
          ]
        }
      ],
      "source": [
        "# 평균 제곱 오차 함수를 각 y 값에 대입하여 최종 값을 구하는 함수입니다.\n",
        "n=len(x)\n",
        "def mse(y, y_pred):\n",
        "    return (1/n) * sum((y - y_pred)**2)\n",
        "\n",
        "# 평균 제곱 오차 값을 출력합니다.\n",
        "print(\"평균 제곱 오차: \" + str(mse(y,predict_result)))"
      ]
    },
    {
      "cell_type": "code",
      "source": [
        "import matplotlib.pyplot as plt\n",
        "# 그래프 그리기\n",
        "plt.figure(figsize=(10, 6))\n",
        "plt.scatter(x, y, label='actual data', color='blue')  # 실제 데이터 산점도\n",
        "\n",
        "# 최소 제곱법 회귀선 그리기\n",
        "plt.plot(x, y_LSM, label='LSM', color='red')\n",
        "\n",
        "# 맞춤 회귀선 그리기\n",
        "plt.plot(x, predict_result, label='MSE', color='green')\n",
        "\n",
        "# 그래프 표시\n",
        "plt.xlabel('x')\n",
        "plt.ylabel('y')\n",
        "plt.title('vs')\n",
        "plt.legend()\n",
        "plt.grid(True)\n",
        "plt.show()"
      ],
      "metadata": {
        "id": "5b1FSzlwKfpT",
        "outputId": "285b8859-2fc3-46b1-b385-2c702a60104c",
        "colab": {
          "base_uri": "https://localhost:8080/",
          "height": 564
        }
      },
      "id": "5b1FSzlwKfpT",
      "execution_count": 15,
      "outputs": [
        {
          "output_type": "display_data",
          "data": {
            "text/plain": [
              "<Figure size 1000x600 with 1 Axes>"
            ],
            "image/png": "[encoded data removed]"
          },
          "metadata": {}
        }
      ]
    },
    {
      "cell_type": "code",
      "source": [],
      "metadata": {
        "id": "xaYGyCA9Kl_W"
      },
      "id": "xaYGyCA9Kl_W",
      "execution_count": null,
      "outputs": []
    }
  ],
  "metadata": {
    "kernelspec": {
      "display_name": "Python 3 (ipykernel)",
      "language": "python",
      "name": "python3"
    },
    "language_info": {
      "codemirror_mode": {
        "name": "ipython",
        "version": 3
      },
      "file_extension": ".py",
      "mimetype": "text/x-python",
      "name": "python",
      "nbconvert_exporter": "python",
      "pygments_lexer": "ipython3",
      "version": "3.9.7"
    },
    "colab": {
      "name": "ch04-colab.ipynb",
      "provenance": []
    }
  },
  "nbformat": 4,
  "nbformat_minor": 5
}